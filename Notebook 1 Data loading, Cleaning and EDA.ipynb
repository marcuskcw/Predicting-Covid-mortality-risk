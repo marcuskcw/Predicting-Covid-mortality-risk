{
 "cells": [
  {
   "cell_type": "markdown",
   "id": "a37b5405",
   "metadata": {},
   "source": [
    "**Marcus Woo**\n",
    "\n",
    "**BrainStation**\n",
    "\n",
    "**Spring 2022**\n"
   ]
  },
  {
   "cell_type": "markdown",
   "id": "d3f0d7e9",
   "metadata": {},
   "source": [
    "## Introduction\n",
    "\n",
    "The Covid-19 Pandemic has placed a huge burden on societies and the health care system. Even though reported cases and Covid-related deaths are declining globally, and many countries are easing Covid-19 restrictions, there is still a considerable risk that there might be another pandemic wave. Being able to predict mortality risk among the infected individuals accurately and identifying severe cases early is important for prioritizing medical care and the planning of health resources.\n",
    "\n",
    "    1. Apply machine learning methods to predict Covid-19 mortality risk using publicly available data\n",
    "   \n",
    "    2. Compare different machine learning methods and see which model provides the highest predictive accuracy\n"
   ]
  },
  {
   "cell_type": "markdown",
   "id": "36394d62",
   "metadata": {},
   "source": [
    "### Notebook 1: Data loading, Cleaning and EDA\n",
    "\n",
    "This notebook focuses on data cleaning and Exploratory Data Analysis (EDA)."
   ]
  },
  {
   "cell_type": "markdown",
   "id": "c74dd751",
   "metadata": {},
   "source": [
    "The dataset is downloaded from the City of Toronto's Open Data Portal - https://open.toronto.ca/dataset/covid-19-cases-in-toronto/. It is managed and published by Toronto Public Health. This dataset contains demographics, geographic, and hospitalization information for all confirmed and probable cases reported to Toronto Public Health since January 2020."
   ]
  },
  {
   "cell_type": "code",
   "execution_count": 1,
   "id": "6919f75e",
   "metadata": {},
   "outputs": [],
   "source": [
    "import pandas as pd\n",
    "import numpy as np\n",
    "import matplotlib.pyplot as plt\n",
    "import seaborn as sns"
   ]
  },
  {
   "cell_type": "code",
   "execution_count": 2,
   "id": "bbb66a75",
   "metadata": {
    "scrolled": true
   },
   "outputs": [
    {
     "data": {
      "text/html": [
       "<div>\n",
       "<style scoped>\n",
       "    .dataframe tbody tr th:only-of-type {\n",
       "        vertical-align: middle;\n",
       "    }\n",
       "\n",
       "    .dataframe tbody tr th {\n",
       "        vertical-align: top;\n",
       "    }\n",
       "\n",
       "    .dataframe thead th {\n",
       "        text-align: right;\n",
       "    }\n",
       "</style>\n",
       "<table border=\"1\" class=\"dataframe\">\n",
       "  <thead>\n",
       "    <tr style=\"text-align: right;\">\n",
       "      <th></th>\n",
       "      <th>_id</th>\n",
       "      <th>Assigned_ID</th>\n",
       "      <th>Outbreak Associated</th>\n",
       "      <th>Age Group</th>\n",
       "      <th>Neighbourhood Name</th>\n",
       "      <th>FSA</th>\n",
       "      <th>Source of Infection</th>\n",
       "      <th>Classification</th>\n",
       "      <th>Episode Date</th>\n",
       "      <th>Reported Date</th>\n",
       "      <th>Client Gender</th>\n",
       "      <th>Outcome</th>\n",
       "      <th>Currently Hospitalized</th>\n",
       "      <th>Currently in ICU</th>\n",
       "      <th>Currently Intubated</th>\n",
       "      <th>Ever Hospitalized</th>\n",
       "      <th>Ever in ICU</th>\n",
       "      <th>Ever Intubated</th>\n",
       "    </tr>\n",
       "  </thead>\n",
       "  <tbody>\n",
       "    <tr>\n",
       "      <th>0</th>\n",
       "      <td>5360306</td>\n",
       "      <td>1</td>\n",
       "      <td>Sporadic</td>\n",
       "      <td>50 to 59 Years</td>\n",
       "      <td>Willowdale East</td>\n",
       "      <td>M2N</td>\n",
       "      <td>Travel</td>\n",
       "      <td>CONFIRMED</td>\n",
       "      <td>2020/1/22</td>\n",
       "      <td>2020/1/23</td>\n",
       "      <td>FEMALE</td>\n",
       "      <td>RESOLVED</td>\n",
       "      <td>No</td>\n",
       "      <td>No</td>\n",
       "      <td>No</td>\n",
       "      <td>No</td>\n",
       "      <td>No</td>\n",
       "      <td>No</td>\n",
       "    </tr>\n",
       "    <tr>\n",
       "      <th>1</th>\n",
       "      <td>5360307</td>\n",
       "      <td>2</td>\n",
       "      <td>Sporadic</td>\n",
       "      <td>50 to 59 Years</td>\n",
       "      <td>Willowdale East</td>\n",
       "      <td>M2N</td>\n",
       "      <td>Travel</td>\n",
       "      <td>CONFIRMED</td>\n",
       "      <td>2020/1/21</td>\n",
       "      <td>2020/1/23</td>\n",
       "      <td>MALE</td>\n",
       "      <td>RESOLVED</td>\n",
       "      <td>No</td>\n",
       "      <td>No</td>\n",
       "      <td>No</td>\n",
       "      <td>Yes</td>\n",
       "      <td>No</td>\n",
       "      <td>No</td>\n",
       "    </tr>\n",
       "    <tr>\n",
       "      <th>2</th>\n",
       "      <td>5360308</td>\n",
       "      <td>3</td>\n",
       "      <td>Sporadic</td>\n",
       "      <td>20 to 29 Years</td>\n",
       "      <td>Parkwoods-Donalda</td>\n",
       "      <td>M3A</td>\n",
       "      <td>Travel</td>\n",
       "      <td>CONFIRMED</td>\n",
       "      <td>2020/2/5</td>\n",
       "      <td>2020/2/21</td>\n",
       "      <td>FEMALE</td>\n",
       "      <td>RESOLVED</td>\n",
       "      <td>No</td>\n",
       "      <td>No</td>\n",
       "      <td>No</td>\n",
       "      <td>No</td>\n",
       "      <td>No</td>\n",
       "      <td>No</td>\n",
       "    </tr>\n",
       "    <tr>\n",
       "      <th>3</th>\n",
       "      <td>5360309</td>\n",
       "      <td>4</td>\n",
       "      <td>Sporadic</td>\n",
       "      <td>60 to 69 Years</td>\n",
       "      <td>Church-Yonge Corridor</td>\n",
       "      <td>M4W</td>\n",
       "      <td>Travel</td>\n",
       "      <td>CONFIRMED</td>\n",
       "      <td>2020/2/16</td>\n",
       "      <td>2020/2/25</td>\n",
       "      <td>FEMALE</td>\n",
       "      <td>RESOLVED</td>\n",
       "      <td>No</td>\n",
       "      <td>No</td>\n",
       "      <td>No</td>\n",
       "      <td>No</td>\n",
       "      <td>No</td>\n",
       "      <td>No</td>\n",
       "    </tr>\n",
       "    <tr>\n",
       "      <th>4</th>\n",
       "      <td>5360310</td>\n",
       "      <td>5</td>\n",
       "      <td>Sporadic</td>\n",
       "      <td>60 to 69 Years</td>\n",
       "      <td>Church-Yonge Corridor</td>\n",
       "      <td>M4W</td>\n",
       "      <td>Travel</td>\n",
       "      <td>CONFIRMED</td>\n",
       "      <td>2020/2/20</td>\n",
       "      <td>2020/2/26</td>\n",
       "      <td>MALE</td>\n",
       "      <td>RESOLVED</td>\n",
       "      <td>No</td>\n",
       "      <td>No</td>\n",
       "      <td>No</td>\n",
       "      <td>No</td>\n",
       "      <td>No</td>\n",
       "      <td>No</td>\n",
       "    </tr>\n",
       "  </tbody>\n",
       "</table>\n",
       "</div>"
      ],
      "text/plain": [
       "       _id  Assigned_ID Outbreak Associated       Age Group  \\\n",
       "0  5360306            1            Sporadic  50 to 59 Years   \n",
       "1  5360307            2            Sporadic  50 to 59 Years   \n",
       "2  5360308            3            Sporadic  20 to 29 Years   \n",
       "3  5360309            4            Sporadic  60 to 69 Years   \n",
       "4  5360310            5            Sporadic  60 to 69 Years   \n",
       "\n",
       "      Neighbourhood Name  FSA Source of Infection Classification Episode Date  \\\n",
       "0        Willowdale East  M2N              Travel      CONFIRMED    2020/1/22   \n",
       "1        Willowdale East  M2N              Travel      CONFIRMED    2020/1/21   \n",
       "2      Parkwoods-Donalda  M3A              Travel      CONFIRMED     2020/2/5   \n",
       "3  Church-Yonge Corridor  M4W              Travel      CONFIRMED    2020/2/16   \n",
       "4  Church-Yonge Corridor  M4W              Travel      CONFIRMED    2020/2/20   \n",
       "\n",
       "  Reported Date Client Gender   Outcome Currently Hospitalized  \\\n",
       "0     2020/1/23        FEMALE  RESOLVED                     No   \n",
       "1     2020/1/23          MALE  RESOLVED                     No   \n",
       "2     2020/2/21        FEMALE  RESOLVED                     No   \n",
       "3     2020/2/25        FEMALE  RESOLVED                     No   \n",
       "4     2020/2/26          MALE  RESOLVED                     No   \n",
       "\n",
       "  Currently in ICU Currently Intubated Ever Hospitalized Ever in ICU  \\\n",
       "0               No                  No                No          No   \n",
       "1               No                  No               Yes          No   \n",
       "2               No                  No                No          No   \n",
       "3               No                  No                No          No   \n",
       "4               No                  No                No          No   \n",
       "\n",
       "  Ever Intubated  \n",
       "0             No  \n",
       "1             No  \n",
       "2             No  \n",
       "3             No  \n",
       "4             No  "
      ]
     },
     "execution_count": 2,
     "metadata": {},
     "output_type": "execute_result"
    }
   ],
   "source": [
    "#load dataset\n",
    "\n",
    "covid_df = pd.read_csv('COVID19 cases.csv')\n",
    "\n",
    "covid_df.head()"
   ]
  },
  {
   "cell_type": "markdown",
   "id": "b64bf2d3",
   "metadata": {},
   "source": [
    "### Data Features Dictionary**\n",
    "\n",
    "- `ID` : Unique row identifier for Open Data database\n",
    "\n",
    "- `Assigned_ID`\t: A unique ID assigned to cases by Toronto Public Health for the purposes of posting to Open Data, to allow for tracking of specific cases. \n",
    "\n",
    "- `Outbreak Associated` : Outbreak associated cases are associated with outbreaks of COVID-19 in Toronto healthcare institutions and healthcare settings (e.g. long-term care homes, retirement homes, hospitals, etc.) and other Toronto congregate settings (such as homeless shelters).\n",
    "\n",
    "- `Age Group`: Age at time of illness. Age groups (in years): ≤19, 20-29, 30-39, 40-49, 50-59, 60-69, 70-79, 80-89, 90+, unknown (blank)\n",
    "\n",
    "- `Neighbourhood Name` : Toronto is divided into 140 geographically distinct neighborhoods that were established to help government and community agencies with local planning by providing socio-economic data for a meaningful geographic area.\n",
    "- `FSA`\tForward sortation area (i.e. first three characters of postal code) based on the case's primary home address. FSA values are generated from client postal codes. One FSA can span multiple neighbourhoods.\n",
    "\n",
    "- `Source of Infection` : \tThe most likely way that cases acquired their COVID-19 infection is determined by examining several data fields including:\n",
    "\n",
    "- `Episode Date`: \tThe episode date is a derived variable that best estimates when the disease was acquired, and refers to the earliest available date from: symptom onset (the first day that COVID-19 symptoms occurred), laboratory specimen collection date, or reported date.\n",
    "\n",
    "- `Reported Date` : \tThe date on which the case was reported to Toronto Public Health.\n",
    "\n",
    "- `Client Gender` :\tSelf-reported gender. Gender is a system that operates in a social context and generally classifies people based on their assigned biological sex.\n",
    "\n",
    "- `Outcome` \t\n",
    "        - Fatal: Any case that has died and has been marked as Outcome equals 'Fatal'\n",
    "        - Resolved: case outcome description of Recovered\n",
    "        - Active: All other cases\n",
    "\n",
    "- `Currently Hospitalized` :\tCases that are currently admitted to hospital (i.e., no discharge date reported).\n",
    "\n",
    "- `Currently in ICU` :\tCases that are currently admitted to the intensive care unit (ICU) (i.e. no discharge date reported).\n",
    "\n",
    "- `Currently Intubated`:\tCases that were intubated related to their COVID-19 infection (includes cases that are currently intubated and those that have been discharged or deceased).\n",
    "\n",
    "- `Ever Hospitalized` :\tCases that were hospitalized related to their COVID-19 infection (includes cases that are currently hospitalized and those that have been discharged or are deceased).\n",
    "\n",
    "- `Ever in ICU`: \tCases that were admitted to the intensive care unit (ICU) related to their COVID-19 infection (includes cases that are currently in ICU and those that have been discharged or are deceased).\n",
    "\n",
    "- `Ever Intubated`:\tCases that were intubated related to their COVID-19 infection (includes cases that are currently intubated and those that have been discharged or deceased)\n",
    "\n",
    "\n",
    "Please refer to __[this link](http://open.toronto.ca/dataset/covid-19-cases-in-toronto/)__ for more information under the section `Data Features`."
   ]
  },
  {
   "cell_type": "code",
   "execution_count": 3,
   "id": "e62ba65b",
   "metadata": {
    "scrolled": true
   },
   "outputs": [
    {
     "name": "stdout",
     "output_type": "stream",
     "text": [
      " The covid dataset has 277473 rows and 18 columns\n"
     ]
    }
   ],
   "source": [
    "#rows and columns\n",
    "covid_df.shape\n",
    "\n",
    "print(f' The covid dataset has {covid_df.shape[0]} rows and {covid_df.shape[1]} columns')"
   ]
  },
  {
   "cell_type": "markdown",
   "id": "4b45a733",
   "metadata": {},
   "source": [
    "### MIssing Values"
   ]
  },
  {
   "cell_type": "code",
   "execution_count": 4,
   "id": "38b1f098",
   "metadata": {},
   "outputs": [
    {
     "data": {
      "text/plain": [
       "_id                       0.000000\n",
       "Assigned_ID               0.000000\n",
       "Outbreak Associated       0.000000\n",
       "Age Group                 0.000706\n",
       "Neighbourhood Name        0.023008\n",
       "FSA                       0.011151\n",
       "Source of Infection       0.000000\n",
       "Classification            0.000000\n",
       "Episode Date              0.000000\n",
       "Reported Date             0.000000\n",
       "Client Gender             0.000000\n",
       "Outcome                   0.000000\n",
       "Currently Hospitalized    0.000000\n",
       "Currently in ICU          0.000000\n",
       "Currently Intubated       0.000000\n",
       "Ever Hospitalized         0.000000\n",
       "Ever in ICU               0.000000\n",
       "Ever Intubated            0.000000\n",
       "dtype: float64"
      ]
     },
     "execution_count": 4,
     "metadata": {},
     "output_type": "execute_result"
    }
   ],
   "source": [
    "#check null values and the proportion \n",
    "covid_df.isnull().sum() / covid_df.shape[0]"
   ]
  },
  {
   "cell_type": "markdown",
   "id": "1f8c709c",
   "metadata": {},
   "source": [
    "- **`Neighbour Name`**: 2.3% of data is missing\n",
    "- **`FSA`**: 1.1% of data is missing\n",
    "- **`Age`**: 0.07% of data is missing"
   ]
  },
  {
   "cell_type": "markdown",
   "id": "a543e276",
   "metadata": {},
   "source": [
    "I also gathered census data on Pre-Tax Household Income and Population Density from __[Wellbeing Toronto](https://www.toronto.ca/city-government/data-research-maps/neighbourhoods-communities/wellbeing-toronto/)__ based on the 140 Neighbourhoods in Toronto. Wellbeing Toronto is a map application that contains datasets and information on demographics, and housing, economic factors that are available to the public."
   ]
  },
  {
   "cell_type": "code",
   "execution_count": 5,
   "id": "1503dcc7",
   "metadata": {
    "scrolled": true
   },
   "outputs": [
    {
     "data": {
      "text/html": [
       "<div>\n",
       "<style scoped>\n",
       "    .dataframe tbody tr th:only-of-type {\n",
       "        vertical-align: middle;\n",
       "    }\n",
       "\n",
       "    .dataframe tbody tr th {\n",
       "        vertical-align: top;\n",
       "    }\n",
       "\n",
       "    .dataframe thead th {\n",
       "        text-align: right;\n",
       "    }\n",
       "</style>\n",
       "<table border=\"1\" class=\"dataframe\">\n",
       "  <thead>\n",
       "    <tr style=\"text-align: right;\">\n",
       "      <th></th>\n",
       "      <th>Neighbourhood Name</th>\n",
       "      <th>Neighbourhood Id</th>\n",
       "      <th>Pre-Tax Household Income</th>\n",
       "      <th>Population density per square kilometre</th>\n",
       "    </tr>\n",
       "  </thead>\n",
       "  <tbody>\n",
       "    <tr>\n",
       "      <th>0</th>\n",
       "      <td>Agincourt North</td>\n",
       "      <td>129</td>\n",
       "      <td>60162</td>\n",
       "      <td>3,929</td>\n",
       "    </tr>\n",
       "    <tr>\n",
       "      <th>1</th>\n",
       "      <td>Agincourt South-Malvern West</td>\n",
       "      <td>128</td>\n",
       "      <td>59013</td>\n",
       "      <td>3,034</td>\n",
       "    </tr>\n",
       "    <tr>\n",
       "      <th>2</th>\n",
       "      <td>Alderwood</td>\n",
       "      <td>20</td>\n",
       "      <td>71585</td>\n",
       "      <td>2,435</td>\n",
       "    </tr>\n",
       "    <tr>\n",
       "      <th>3</th>\n",
       "      <td>Annex</td>\n",
       "      <td>95</td>\n",
       "      <td>57825</td>\n",
       "      <td>10,863</td>\n",
       "    </tr>\n",
       "    <tr>\n",
       "      <th>4</th>\n",
       "      <td>Banbury-Don Mills</td>\n",
       "      <td>42</td>\n",
       "      <td>70039</td>\n",
       "      <td>2,775</td>\n",
       "    </tr>\n",
       "  </tbody>\n",
       "</table>\n",
       "</div>"
      ],
      "text/plain": [
       "             Neighbourhood Name  Neighbourhood Id  Pre-Tax Household Income  \\\n",
       "0               Agincourt North               129                     60162   \n",
       "1  Agincourt South-Malvern West               128                     59013   \n",
       "2                     Alderwood                20                     71585   \n",
       "3                         Annex                95                     57825   \n",
       "4             Banbury-Don Mills                42                     70039   \n",
       "\n",
       "  Population density per square kilometre  \n",
       "0                                   3,929  \n",
       "1                                   3,034  \n",
       "2                                   2,435  \n",
       "3                                  10,863  \n",
       "4                                   2,775  "
      ]
     },
     "execution_count": 5,
     "metadata": {},
     "output_type": "execute_result"
    }
   ],
   "source": [
    "# load the dataset with census data on Pre-Tax Household Income and Population Density\n",
    "demographics_df = pd.read_csv('wellbeing_toronto.csv')\n",
    "\n",
    "demographics_df.head()"
   ]
  },
  {
   "cell_type": "code",
   "execution_count": 6,
   "id": "beaf928e",
   "metadata": {},
   "outputs": [
    {
     "data": {
      "text/plain": [
       "140"
      ]
     },
     "execution_count": 6,
     "metadata": {},
     "output_type": "execute_result"
    }
   ],
   "source": [
    "#check the unique values of neighbourhood\n",
    "covid_df['Neighbourhood Name'].nunique()"
   ]
  },
  {
   "cell_type": "code",
   "execution_count": 7,
   "id": "b83703ab",
   "metadata": {
    "scrolled": false
   },
   "outputs": [
    {
     "data": {
      "text/plain": [
       "140"
      ]
     },
     "execution_count": 7,
     "metadata": {},
     "output_type": "execute_result"
    }
   ],
   "source": [
    "#check the unique values of neighbourhood\n",
    "demographics_df['Neighbourhood Name'].nunique()"
   ]
  },
  {
   "cell_type": "markdown",
   "id": "b0b15da2",
   "metadata": {},
   "source": [
    "Even though the number of unique values matches for `Neighbourhood Name ` matched when I merged two datasets together on `Neighbourhood Name`, it returned 145 unique neighborhood names, so some of the spellings do not match. I will need to create a function to return all unmatched neighborhood names, then correct the spelling of the neighborhood names"
   ]
  },
  {
   "cell_type": "code",
   "execution_count": 8,
   "id": "82d3616f",
   "metadata": {},
   "outputs": [],
   "source": [
    "#get unique values of neighbourhood names from covid_df\n",
    "list_a = covid_df['Neighbourhood Name'].unique()\n",
    "\n",
    "list_a = list_a.tolist()"
   ]
  },
  {
   "cell_type": "code",
   "execution_count": 9,
   "id": "0f025201",
   "metadata": {},
   "outputs": [],
   "source": [
    "#get unique values of neighbourhood names from demographics_df\n",
    "list_b = demographics_df['Neighbourhood Name'].unique()\n",
    "\n",
    "list_b = list_b.tolist()"
   ]
  },
  {
   "cell_type": "code",
   "execution_count": 10,
   "id": "76dada75",
   "metadata": {},
   "outputs": [],
   "source": [
    "def return_unmatched(list_a, list_b):\n",
    "    \"\"\"\n",
    "    Compare the two lists of unique values and return unmatched value\n",
    "\n",
    "    \"\"\"\n",
    "    non_match_a  = set(list_a)-set(list_b)\n",
    "    non_match_b  = set(list_b)-set(list_a)\n",
    "    non_match = list(non_match_a) + list(non_match_b)\n",
    "    return non_match"
   ]
  },
  {
   "cell_type": "code",
   "execution_count": 11,
   "id": "2f5d5ae9",
   "metadata": {},
   "outputs": [
    {
     "data": {
      "text/plain": [
       "[nan,\n",
       " 'Cabbagetown-South St. James Town',\n",
       " 'North St. James Town',\n",
       " 'Dovercourt-Wallace Emerson-Junction',\n",
       " 'Briar Hill - Belgravia',\n",
       " 'Mimico (includes Humber Bay Shores)',\n",
       " 'Cabbagetown-South St.James Town',\n",
       " 'North St.James Town',\n",
       " 'Dovercourt-Wallace Emerson-Juncti',\n",
       " 'Briar Hill-Belgravia',\n",
       " 'Mimico']"
      ]
     },
     "execution_count": 11,
     "metadata": {},
     "output_type": "execute_result"
    }
   ],
   "source": [
    "return_unmatched(list_a,list_b)"
   ]
  },
  {
   "cell_type": "code",
   "execution_count": 12,
   "id": "43181f13",
   "metadata": {},
   "outputs": [],
   "source": [
    "#match and replace the five neighbourhood names\n",
    "covid_df['Neighbourhood Name'].replace('North St. James Town', 'North St.James Town',inplace = True)\n",
    "covid_df['Neighbourhood Name'].replace('Briar Hill - Belgravia', 'Briar Hill-Belgravia',inplace = True)\n",
    "covid_df['Neighbourhood Name'].replace('Dovercourt-Wallace Emerson-Junction', 'Dovercourt-Wallace Emerson-Juncti',inplace = True)\n",
    "covid_df['Neighbourhood Name'].replace('Cabbagetown-South St. James Town', 'Cabbagetown-South St.James Town',inplace = True)\n",
    "covid_df['Neighbourhood Name'].replace('Mimico (includes Humber Bay Shores)', 'Mimico',inplace = True)"
   ]
  },
  {
   "cell_type": "code",
   "execution_count": 13,
   "id": "c85d91bd",
   "metadata": {},
   "outputs": [],
   "source": [
    "# Merge the two dataset based on 'Neighbourhood Name'\n",
    "combined_df = pd.merge(covid_df, demographics_df, on='Neighbourhood Name')"
   ]
  },
  {
   "cell_type": "code",
   "execution_count": 14,
   "id": "175225ea",
   "metadata": {},
   "outputs": [
    {
     "data": {
      "text/plain": [
       "140"
      ]
     },
     "execution_count": 14,
     "metadata": {},
     "output_type": "execute_result"
    }
   ],
   "source": [
    "#sanity check\n",
    "combined_df['Neighbourhood Name'].nunique()"
   ]
  },
  {
   "cell_type": "code",
   "execution_count": 15,
   "id": "2b866931",
   "metadata": {
    "scrolled": false
   },
   "outputs": [
    {
     "data": {
      "text/html": [
       "<div>\n",
       "<style scoped>\n",
       "    .dataframe tbody tr th:only-of-type {\n",
       "        vertical-align: middle;\n",
       "    }\n",
       "\n",
       "    .dataframe tbody tr th {\n",
       "        vertical-align: top;\n",
       "    }\n",
       "\n",
       "    .dataframe thead th {\n",
       "        text-align: right;\n",
       "    }\n",
       "</style>\n",
       "<table border=\"1\" class=\"dataframe\">\n",
       "  <thead>\n",
       "    <tr style=\"text-align: right;\">\n",
       "      <th></th>\n",
       "      <th>_id</th>\n",
       "      <th>Assigned_ID</th>\n",
       "      <th>Outbreak Associated</th>\n",
       "      <th>Age Group</th>\n",
       "      <th>Neighbourhood Name</th>\n",
       "      <th>FSA</th>\n",
       "      <th>Source of Infection</th>\n",
       "      <th>Classification</th>\n",
       "      <th>Episode Date</th>\n",
       "      <th>Reported Date</th>\n",
       "      <th>...</th>\n",
       "      <th>Outcome</th>\n",
       "      <th>Currently Hospitalized</th>\n",
       "      <th>Currently in ICU</th>\n",
       "      <th>Currently Intubated</th>\n",
       "      <th>Ever Hospitalized</th>\n",
       "      <th>Ever in ICU</th>\n",
       "      <th>Ever Intubated</th>\n",
       "      <th>Neighbourhood Id</th>\n",
       "      <th>Pre-Tax Household Income</th>\n",
       "      <th>Population density per square kilometre</th>\n",
       "    </tr>\n",
       "  </thead>\n",
       "  <tbody>\n",
       "    <tr>\n",
       "      <th>0</th>\n",
       "      <td>5360306</td>\n",
       "      <td>1</td>\n",
       "      <td>Sporadic</td>\n",
       "      <td>50 to 59 Years</td>\n",
       "      <td>Willowdale East</td>\n",
       "      <td>M2N</td>\n",
       "      <td>Travel</td>\n",
       "      <td>CONFIRMED</td>\n",
       "      <td>2020/1/22</td>\n",
       "      <td>2020/1/23</td>\n",
       "      <td>...</td>\n",
       "      <td>RESOLVED</td>\n",
       "      <td>No</td>\n",
       "      <td>No</td>\n",
       "      <td>No</td>\n",
       "      <td>No</td>\n",
       "      <td>No</td>\n",
       "      <td>No</td>\n",
       "      <td>51</td>\n",
       "      <td>64362</td>\n",
       "      <td>10,087</td>\n",
       "    </tr>\n",
       "    <tr>\n",
       "      <th>1</th>\n",
       "      <td>5360307</td>\n",
       "      <td>2</td>\n",
       "      <td>Sporadic</td>\n",
       "      <td>50 to 59 Years</td>\n",
       "      <td>Willowdale East</td>\n",
       "      <td>M2N</td>\n",
       "      <td>Travel</td>\n",
       "      <td>CONFIRMED</td>\n",
       "      <td>2020/1/21</td>\n",
       "      <td>2020/1/23</td>\n",
       "      <td>...</td>\n",
       "      <td>RESOLVED</td>\n",
       "      <td>No</td>\n",
       "      <td>No</td>\n",
       "      <td>No</td>\n",
       "      <td>Yes</td>\n",
       "      <td>No</td>\n",
       "      <td>No</td>\n",
       "      <td>51</td>\n",
       "      <td>64362</td>\n",
       "      <td>10,087</td>\n",
       "    </tr>\n",
       "    <tr>\n",
       "      <th>2</th>\n",
       "      <td>5360314</td>\n",
       "      <td>9</td>\n",
       "      <td>Sporadic</td>\n",
       "      <td>50 to 59 Years</td>\n",
       "      <td>Willowdale East</td>\n",
       "      <td>M2N</td>\n",
       "      <td>Travel</td>\n",
       "      <td>CONFIRMED</td>\n",
       "      <td>2020/2/29</td>\n",
       "      <td>2020/2/29</td>\n",
       "      <td>...</td>\n",
       "      <td>RESOLVED</td>\n",
       "      <td>No</td>\n",
       "      <td>No</td>\n",
       "      <td>No</td>\n",
       "      <td>No</td>\n",
       "      <td>No</td>\n",
       "      <td>No</td>\n",
       "      <td>51</td>\n",
       "      <td>64362</td>\n",
       "      <td>10,087</td>\n",
       "    </tr>\n",
       "    <tr>\n",
       "      <th>3</th>\n",
       "      <td>5360321</td>\n",
       "      <td>16</td>\n",
       "      <td>Sporadic</td>\n",
       "      <td>50 to 59 Years</td>\n",
       "      <td>Willowdale East</td>\n",
       "      <td>M2N</td>\n",
       "      <td>Travel</td>\n",
       "      <td>CONFIRMED</td>\n",
       "      <td>2020/3/3</td>\n",
       "      <td>2020/3/5</td>\n",
       "      <td>...</td>\n",
       "      <td>RESOLVED</td>\n",
       "      <td>No</td>\n",
       "      <td>No</td>\n",
       "      <td>No</td>\n",
       "      <td>No</td>\n",
       "      <td>No</td>\n",
       "      <td>No</td>\n",
       "      <td>51</td>\n",
       "      <td>64362</td>\n",
       "      <td>10,087</td>\n",
       "    </tr>\n",
       "    <tr>\n",
       "      <th>4</th>\n",
       "      <td>5360325</td>\n",
       "      <td>21</td>\n",
       "      <td>Sporadic</td>\n",
       "      <td>80 to 89 Years</td>\n",
       "      <td>Willowdale East</td>\n",
       "      <td>M2N</td>\n",
       "      <td>Travel</td>\n",
       "      <td>CONFIRMED</td>\n",
       "      <td>2020/3/3</td>\n",
       "      <td>2020/3/8</td>\n",
       "      <td>...</td>\n",
       "      <td>RESOLVED</td>\n",
       "      <td>No</td>\n",
       "      <td>No</td>\n",
       "      <td>No</td>\n",
       "      <td>No</td>\n",
       "      <td>No</td>\n",
       "      <td>No</td>\n",
       "      <td>51</td>\n",
       "      <td>64362</td>\n",
       "      <td>10,087</td>\n",
       "    </tr>\n",
       "  </tbody>\n",
       "</table>\n",
       "<p>5 rows × 21 columns</p>\n",
       "</div>"
      ],
      "text/plain": [
       "       _id  Assigned_ID Outbreak Associated       Age Group  \\\n",
       "0  5360306            1            Sporadic  50 to 59 Years   \n",
       "1  5360307            2            Sporadic  50 to 59 Years   \n",
       "2  5360314            9            Sporadic  50 to 59 Years   \n",
       "3  5360321           16            Sporadic  50 to 59 Years   \n",
       "4  5360325           21            Sporadic  80 to 89 Years   \n",
       "\n",
       "  Neighbourhood Name  FSA Source of Infection Classification Episode Date  \\\n",
       "0    Willowdale East  M2N              Travel      CONFIRMED    2020/1/22   \n",
       "1    Willowdale East  M2N              Travel      CONFIRMED    2020/1/21   \n",
       "2    Willowdale East  M2N              Travel      CONFIRMED    2020/2/29   \n",
       "3    Willowdale East  M2N              Travel      CONFIRMED     2020/3/3   \n",
       "4    Willowdale East  M2N              Travel      CONFIRMED     2020/3/3   \n",
       "\n",
       "  Reported Date  ...   Outcome Currently Hospitalized Currently in ICU  \\\n",
       "0     2020/1/23  ...  RESOLVED                     No               No   \n",
       "1     2020/1/23  ...  RESOLVED                     No               No   \n",
       "2     2020/2/29  ...  RESOLVED                     No               No   \n",
       "3      2020/3/5  ...  RESOLVED                     No               No   \n",
       "4      2020/3/8  ...  RESOLVED                     No               No   \n",
       "\n",
       "  Currently Intubated Ever Hospitalized Ever in ICU Ever Intubated  \\\n",
       "0                  No                No          No             No   \n",
       "1                  No               Yes          No             No   \n",
       "2                  No                No          No             No   \n",
       "3                  No                No          No             No   \n",
       "4                  No                No          No             No   \n",
       "\n",
       "  Neighbourhood Id  Pre-Tax Household Income  \\\n",
       "0               51                     64362   \n",
       "1               51                     64362   \n",
       "2               51                     64362   \n",
       "3               51                     64362   \n",
       "4               51                     64362   \n",
       "\n",
       "   Population density per square kilometre  \n",
       "0                                   10,087  \n",
       "1                                   10,087  \n",
       "2                                   10,087  \n",
       "3                                   10,087  \n",
       "4                                   10,087  \n",
       "\n",
       "[5 rows x 21 columns]"
      ]
     },
     "execution_count": 15,
     "metadata": {},
     "output_type": "execute_result"
    }
   ],
   "source": [
    "combined_df.head()"
   ]
  },
  {
   "cell_type": "code",
   "execution_count": 16,
   "id": "8c5b241c",
   "metadata": {},
   "outputs": [
    {
     "name": "stdout",
     "output_type": "stream",
     "text": [
      "The combined dataset now has 271089 rows and 21 columns\n"
     ]
    }
   ],
   "source": [
    "# Explore the dataset\n",
    "combined_df.shape\n",
    "\n",
    "print(f'The combined dataset now has {combined_df.shape[0]} rows and {combined_df.shape[1]} columns')"
   ]
  },
  {
   "cell_type": "markdown",
   "id": "5c132d85",
   "metadata": {},
   "source": [
    "I merged the two datasets and performed an inner join, so all the rows with missing values for `Neighbourhood name` are removed. 6385 (~ 2%)  rows of data were removed."
   ]
  },
  {
   "cell_type": "code",
   "execution_count": 17,
   "id": "def69a2a",
   "metadata": {
    "scrolled": false
   },
   "outputs": [
    {
     "data": {
      "text/plain": [
       "_id                                          0\n",
       "Assigned_ID                                  0\n",
       "Outbreak Associated                          0\n",
       "Age Group                                  127\n",
       "Neighbourhood Name                           0\n",
       "FSA                                          0\n",
       "Source of Infection                          0\n",
       "Classification                               0\n",
       "Episode Date                                 0\n",
       "Reported Date                                0\n",
       "Client Gender                                0\n",
       "Outcome                                      0\n",
       "Currently Hospitalized                       0\n",
       "Currently in ICU                             0\n",
       "Currently Intubated                          0\n",
       "Ever Hospitalized                            0\n",
       "Ever in ICU                                  0\n",
       "Ever Intubated                               0\n",
       "Neighbourhood Id                             0\n",
       "Pre-Tax Household Income                     0\n",
       "Population density per square kilometre      0\n",
       "dtype: int64"
      ]
     },
     "execution_count": 17,
     "metadata": {},
     "output_type": "execute_result"
    }
   ],
   "source": [
    "#check for null values\n",
    "combined_df.isnull().sum()"
   ]
  },
  {
   "cell_type": "markdown",
   "id": "c8d647f6",
   "metadata": {},
   "source": [
    "There are 127 missing values for `Age Group`, which is less than 0.1% of total observations and I noticed `Age Group` is a categorical variable, so we can not replace the missing values with mean or median."
   ]
  },
  {
   "cell_type": "code",
   "execution_count": 18,
   "id": "05e57c43",
   "metadata": {
    "scrolled": false
   },
   "outputs": [
    {
     "data": {
      "text/plain": [
       "_id                                        0\n",
       "Assigned_ID                                0\n",
       "Outbreak Associated                        0\n",
       "Age Group                                  0\n",
       "Neighbourhood Name                         0\n",
       "FSA                                        0\n",
       "Source of Infection                        0\n",
       "Classification                             0\n",
       "Episode Date                               0\n",
       "Reported Date                              0\n",
       "Client Gender                              0\n",
       "Outcome                                    0\n",
       "Currently Hospitalized                     0\n",
       "Currently in ICU                           0\n",
       "Currently Intubated                        0\n",
       "Ever Hospitalized                          0\n",
       "Ever in ICU                                0\n",
       "Ever Intubated                             0\n",
       "Neighbourhood Id                           0\n",
       "Pre-Tax Household Income                   0\n",
       "Population density per square kilometre    0\n",
       "dtype: int64"
      ]
     },
     "execution_count": 18,
     "metadata": {},
     "output_type": "execute_result"
    }
   ],
   "source": [
    "#drop rows with null values\n",
    "combined_df.dropna(axis = 0, inplace = True)\n",
    "\n",
    "#sanity check\n",
    "combined_df.isnull().sum()"
   ]
  },
  {
   "cell_type": "markdown",
   "id": "28c9fc67",
   "metadata": {},
   "source": [
    "### Duplicated rows"
   ]
  },
  {
   "cell_type": "code",
   "execution_count": 19,
   "id": "4a8a735a",
   "metadata": {},
   "outputs": [
    {
     "data": {
      "text/plain": [
       "0"
      ]
     },
     "execution_count": 19,
     "metadata": {},
     "output_type": "execute_result"
    }
   ],
   "source": [
    "# check for duplicated row\n",
    "combined_df.duplicated().sum()"
   ]
  },
  {
   "cell_type": "code",
   "execution_count": 20,
   "id": "5443bb02",
   "metadata": {},
   "outputs": [
    {
     "name": "stdout",
     "output_type": "stream",
     "text": [
      "<class 'pandas.core.frame.DataFrame'>\n",
      "Int64Index: 270962 entries, 0 to 271088\n",
      "Data columns (total 21 columns):\n",
      " #   Column                                   Non-Null Count   Dtype \n",
      "---  ------                                   --------------   ----- \n",
      " 0   _id                                      270962 non-null  int64 \n",
      " 1   Assigned_ID                              270962 non-null  int64 \n",
      " 2   Outbreak Associated                      270962 non-null  object\n",
      " 3   Age Group                                270962 non-null  object\n",
      " 4   Neighbourhood Name                       270962 non-null  object\n",
      " 5   FSA                                      270962 non-null  object\n",
      " 6   Source of Infection                      270962 non-null  object\n",
      " 7   Classification                           270962 non-null  object\n",
      " 8   Episode Date                             270962 non-null  object\n",
      " 9   Reported Date                            270962 non-null  object\n",
      " 10  Client Gender                            270962 non-null  object\n",
      " 11  Outcome                                  270962 non-null  object\n",
      " 12  Currently Hospitalized                   270962 non-null  object\n",
      " 13  Currently in ICU                         270962 non-null  object\n",
      " 14  Currently Intubated                      270962 non-null  object\n",
      " 15  Ever Hospitalized                        270962 non-null  object\n",
      " 16  Ever in ICU                              270962 non-null  object\n",
      " 17  Ever Intubated                           270962 non-null  object\n",
      " 18  Neighbourhood Id                         270962 non-null  int64 \n",
      " 19  Pre-Tax Household Income                 270962 non-null  int64 \n",
      " 20  Population density per square kilometre  270962 non-null  object\n",
      "dtypes: int64(4), object(17)\n",
      "memory usage: 45.5+ MB\n"
     ]
    }
   ],
   "source": [
    "#check datatypes for each variable\n",
    "combined_df.info()"
   ]
  },
  {
   "cell_type": "markdown",
   "id": "3fba2a91",
   "metadata": {},
   "source": [
    "Some of these columns are not useful for our analysis or it carries redundant information, such as '_id', 'Assigned_ID', 'Neighbourhood Name', 'FSA', 'Currently Hospitalized', 'Currently in ICU', 'Currently Intubated'.\n",
    "\n",
    "-Our target variable is `Outcome`, whether the person recovered or passed away, so we are not interested in the patient's current condition.\n",
    "\n",
    "-We have acquired `population density` and `household income` data using neighborhood information, so we can remove `Neighbourhood Name` and `FSA`. "
   ]
  },
  {
   "cell_type": "code",
   "execution_count": 21,
   "id": "5fa5dc7c",
   "metadata": {
    "scrolled": true
   },
   "outputs": [
    {
     "name": "stdout",
     "output_type": "stream",
     "text": [
      "<class 'pandas.core.frame.DataFrame'>\n",
      "Int64Index: 270962 entries, 0 to 271088\n",
      "Data columns (total 12 columns):\n",
      " #   Column                                   Non-Null Count   Dtype \n",
      "---  ------                                   --------------   ----- \n",
      " 0   Outbreak Associated                      270962 non-null  object\n",
      " 1   Age Group                                270962 non-null  object\n",
      " 2   Source of Infection                      270962 non-null  object\n",
      " 3   Classification                           270962 non-null  object\n",
      " 4   Episode Date                             270962 non-null  object\n",
      " 5   Client Gender                            270962 non-null  object\n",
      " 6   Outcome                                  270962 non-null  object\n",
      " 7   Ever Hospitalized                        270962 non-null  object\n",
      " 8   Ever in ICU                              270962 non-null  object\n",
      " 9   Ever Intubated                           270962 non-null  object\n",
      " 10  Pre-Tax Household Income                 270962 non-null  int64 \n",
      " 11  Population density per square kilometre  270962 non-null  object\n",
      "dtypes: int64(1), object(11)\n",
      "memory usage: 26.9+ MB\n"
     ]
    }
   ],
   "source": [
    "#drop columns\n",
    "combined_clean_df = combined_df.drop(columns = ['_id', 'Assigned_ID', 'Neighbourhood Name', 'FSA', 'Reported Date', 'Currently Hospitalized', 'Currently in ICU', 'Currently Intubated','Neighbourhood Id'])\n",
    "\n",
    "combined_clean_df.info()"
   ]
  },
  {
   "cell_type": "markdown",
   "id": "586147c8",
   "metadata": {},
   "source": [
    "### Exploratory Data Analysis EDA"
   ]
  },
  {
   "cell_type": "code",
   "execution_count": 22,
   "id": "6a9bcba9",
   "metadata": {},
   "outputs": [
    {
     "data": {
      "text/plain": [
       "RESOLVED    259009\n",
       "ACTIVE        7932\n",
       "FATAL         4021\n",
       "Name: Outcome, dtype: int64"
      ]
     },
     "execution_count": 22,
     "metadata": {},
     "output_type": "execute_result"
    }
   ],
   "source": [
    "#start with our dependent variable\n",
    "combined_clean_df['Outcome'].value_counts()"
   ]
  },
  {
   "cell_type": "markdown",
   "id": "64e8bba7",
   "metadata": {},
   "source": [
    "I will combine `Resolved` and `Active` cases together since we are trying to predict Covid19 mortality risk, so we can simply look at fatal cases with non-fatal cases and treat this as a binary classification task."
   ]
  },
  {
   "cell_type": "code",
   "execution_count": 23,
   "id": "523b2163",
   "metadata": {
    "scrolled": false
   },
   "outputs": [
    {
     "data": {
      "text/plain": [
       "RESOLVED    266941\n",
       "FATAL         4021\n",
       "Name: Outcome, dtype: int64"
      ]
     },
     "execution_count": 23,
     "metadata": {},
     "output_type": "execute_result"
    }
   ],
   "source": [
    "#map fatal cases to 1 and others to 0\n",
    "combined_clean_df['Outcome'] = np.where(combined_clean_df['Outcome'] == 'FATAL', 'FATAL', 'RESOLVED')\n",
    "\n",
    "#sanity check\n",
    "combined_clean_df['Outcome'].value_counts()"
   ]
  },
  {
   "cell_type": "code",
   "execution_count": 24,
   "id": "bbe0870d",
   "metadata": {},
   "outputs": [
    {
     "data": {
      "image/png": "[encoded data removed]",
      "text/plain": [
       "<Figure size 720x504 with 1 Axes>"
      ]
     },
     "metadata": {},
     "output_type": "display_data"
    }
   ],
   "source": [
    "#plot dependent variables\n",
    "sns.set()\n",
    "plt.figure(figsize=(10,7))\n",
    "\n",
    "sns.countplot(data = combined_clean_df, x = 'Outcome')\n",
    "plt.title(\"Distribution of Covid Cases' Outcome\")\n",
    "\n",
    "#plt.savefig('Class_imbalance.pdf', dpi = 400) #export graph fpr powerpoint presentation\n",
    "plt.show()\n"
   ]
  },
  {
   "cell_type": "markdown",
   "id": "e40bed3f",
   "metadata": {},
   "source": [
    "**We definitely see a huge imbalance between the two classes with 4021 `Fatal` cases and 266941 `Resolved` cases.**"
   ]
  },
  {
   "cell_type": "code",
   "execution_count": 25,
   "id": "b5a1673a",
   "metadata": {},
   "outputs": [],
   "source": [
    "#convert population density variable to int by removing ','\n",
    "combined_clean_df['Population density per square kilometre'] = combined_clean_df['Population density per square kilometre'].str.replace(',','').astype(int)"
   ]
  },
  {
   "cell_type": "code",
   "execution_count": 26,
   "id": "7a2117a6",
   "metadata": {
    "scrolled": false
   },
   "outputs": [],
   "source": [
    "# create a list for numeric variables\n",
    "numeric_column = list(combined_clean_df.select_dtypes(\"number\").columns)\n",
    "\n",
    "numeric_df = combined_clean_df[numeric_column]"
   ]
  },
  {
   "cell_type": "code",
   "execution_count": 27,
   "id": "c9d999c1",
   "metadata": {
    "scrolled": true
   },
   "outputs": [
    {
     "data": {
      "image/png": "[encoded data removed]",
      "text/plain": [
       "<Figure size 432x288 with 1 Axes>"
      ]
     },
     "metadata": {},
     "output_type": "display_data"
    }
   ],
   "source": [
    "#plot histograms for numeric variables\n",
    "plt.figure()\n",
    "\n",
    "combined_clean_df['Pre-Tax Household Income'].hist(bins = 25)\n",
    "plt.title('Distribution of Pre-Tax Household Income')\n",
    "plt.xlabel('Pre-tax Household Income')\n",
    "plt.ylabel('Count')\n",
    "\n",
    "plt.tight_layout()\n",
    "plt.show()"
   ]
  },
  {
   "cell_type": "code",
   "execution_count": 28,
   "id": "f9546813",
   "metadata": {
    "scrolled": false
   },
   "outputs": [
    {
     "data": {
      "image/png": "[encoded data removed]",
      "text/plain": [
       "<Figure size 432x288 with 1 Axes>"
      ]
     },
     "metadata": {},
     "output_type": "display_data"
    }
   ],
   "source": [
    "#plot histograms for numeric variables\n",
    "plt.figure()\n",
    "\n",
    "combined_clean_df['Population density per square kilometre'].hist(bins = 25)\n",
    "plt.title('Distribution of Population Density')\n",
    "plt.xlabel('Population Density')\n",
    "plt.ylabel('Count')\n",
    "\n",
    "plt.tight_layout()\n",
    "plt.show()"
   ]
  },
  {
   "cell_type": "code",
   "execution_count": 29,
   "id": "db0ea42d",
   "metadata": {},
   "outputs": [
    {
     "data": {
      "image/png": "[encoded data removed]",
      "text/plain": [
       "<Figure size 720x360 with 2 Axes>"
      ]
     },
     "metadata": {},
     "output_type": "display_data"
    }
   ],
   "source": [
    "fig, axes = plt.subplots(1,2, figsize = (10,5))\n",
    "fig.suptitle('Relationship between income and population denstiy with Fatal Covid cases')\n",
    "\n",
    "sns.boxplot(y='Pre-Tax Household Income', x='Outcome', data=combined_clean_df, ax=axes[0])\n",
    "\n",
    "sns.boxplot(y='Population density per square kilometre', x='Outcome', data=combined_clean_df, ax=axes[1])\n",
    "\n",
    "plt.tight_layout()"
   ]
  },
  {
   "cell_type": "markdown",
   "id": "2042d1af",
   "metadata": {},
   "source": [
    "Initially, I was hoping to see a difference in mortality rates among those with higher and lower incomes. Often it has been reported that communities with fewer resources are suffering from more cases and deaths. especially when we are comparing developed and developing countries, or looking at rich and poor areas within a country. We are not able to see much of a difference here, perhaps because our dataset only consists of cases from the city of Toronto."
   ]
  },
  {
   "cell_type": "code",
   "execution_count": 30,
   "id": "3272a363",
   "metadata": {},
   "outputs": [
    {
     "data": {
      "image/png": "[encoded data removed]",
      "text/plain": [
       "<Figure size 432x288 with 2 Axes>"
      ]
     },
     "metadata": {},
     "output_type": "display_data"
    }
   ],
   "source": [
    "#plot correlation between the two numeric variables\n",
    "plt.figure()\n",
    "\n",
    "sns.heatmap(numeric_df.corr(), vmin=-1, vmax=1, cmap=\"coolwarm\", annot=True)\n",
    "\n",
    "plt.xticks(rotation = 20)\n",
    "\n",
    "plt.show()"
   ]
  },
  {
   "cell_type": "markdown",
   "id": "58be4c97",
   "metadata": {},
   "source": [
    "`Population Density` is negatively correlated with `Household Income`, Household with higher income tends to live in neighborhoods with lower population density."
   ]
  },
  {
   "cell_type": "code",
   "execution_count": 31,
   "id": "8254be07",
   "metadata": {},
   "outputs": [],
   "source": [
    "def plot_fatal_ratio(df, column):\n",
    "    \"\"\" \n",
    "    Plot the given categorical column against the outcome status in the data to show the distribution\n",
    "    \n",
    "    df is the dataframe and column is the name of the column.\n",
    "    \n",
    "    \"\"\"\n",
    "\n",
    "    total_count = df.groupby([column, \"Outcome\"])[column].count()\n",
    "    pct_fatal = total_count / df.groupby(column)[column].count()\n",
    "    \n",
    "    total_count = total_count.unstack()\n",
    "    pct_fatal = pct_fatal.unstack()\n",
    "    \n",
    "    display(df[column].value_counts())\n",
    "    display(total_count)\n",
    "    display(pct_fatal)\n",
    "\n",
    "    pct_fatal.plot(kind = 'barh', stacked = True)\n",
    "    plt.xlabel('Proportion')\n",
    "    sns.despine()\n",
    "    plt.title(f'{column} vs. outcome')\n",
    "    plt.show()"
   ]
  },
  {
   "cell_type": "code",
   "execution_count": 32,
   "id": "9f76b0fc",
   "metadata": {},
   "outputs": [],
   "source": [
    "#re-map fatal cases to 1 and others to 0\n",
    "combined_clean_df['Outcome'] = np.where(combined_clean_df['Outcome'] == 'FATAL', 'ZFATAL', 'RESOLVED') #re-map fatal as zfatal for labelencoding"
   ]
  },
  {
   "cell_type": "code",
   "execution_count": 33,
   "id": "271523e2",
   "metadata": {},
   "outputs": [
    {
     "data": {
      "text/plain": [
       "Sporadic               242250\n",
       "Outbreak Associated     28712\n",
       "Name: Outbreak Associated, dtype: int64"
      ]
     },
     "metadata": {},
     "output_type": "display_data"
    },
    {
     "data": {
      "text/html": [
       "<div>\n",
       "<style scoped>\n",
       "    .dataframe tbody tr th:only-of-type {\n",
       "        vertical-align: middle;\n",
       "    }\n",
       "\n",
       "    .dataframe tbody tr th {\n",
       "        vertical-align: top;\n",
       "    }\n",
       "\n",
       "    .dataframe thead th {\n",
       "        text-align: right;\n",
       "    }\n",
       "</style>\n",
       "<table border=\"1\" class=\"dataframe\">\n",
       "  <thead>\n",
       "    <tr style=\"text-align: right;\">\n",
       "      <th>Outcome</th>\n",
       "      <th>RESOLVED</th>\n",
       "      <th>ZFATAL</th>\n",
       "    </tr>\n",
       "    <tr>\n",
       "      <th>Outbreak Associated</th>\n",
       "      <th></th>\n",
       "      <th></th>\n",
       "    </tr>\n",
       "  </thead>\n",
       "  <tbody>\n",
       "    <tr>\n",
       "      <th>Outbreak Associated</th>\n",
       "      <td>26682</td>\n",
       "      <td>2030</td>\n",
       "    </tr>\n",
       "    <tr>\n",
       "      <th>Sporadic</th>\n",
       "      <td>240259</td>\n",
       "      <td>1991</td>\n",
       "    </tr>\n",
       "  </tbody>\n",
       "</table>\n",
       "</div>"
      ],
      "text/plain": [
       "Outcome              RESOLVED  ZFATAL\n",
       "Outbreak Associated                  \n",
       "Outbreak Associated     26682    2030\n",
       "Sporadic               240259    1991"
      ]
     },
     "metadata": {},
     "output_type": "display_data"
    },
    {
     "data": {
      "text/html": [
       "<div>\n",
       "<style scoped>\n",
       "    .dataframe tbody tr th:only-of-type {\n",
       "        vertical-align: middle;\n",
       "    }\n",
       "\n",
       "    .dataframe tbody tr th {\n",
       "        vertical-align: top;\n",
       "    }\n",
       "\n",
       "    .dataframe thead th {\n",
       "        text-align: right;\n",
       "    }\n",
       "</style>\n",
       "<table border=\"1\" class=\"dataframe\">\n",
       "  <thead>\n",
       "    <tr style=\"text-align: right;\">\n",
       "      <th>Outcome</th>\n",
       "      <th>RESOLVED</th>\n",
       "      <th>ZFATAL</th>\n",
       "    </tr>\n",
       "    <tr>\n",
       "      <th>Outbreak Associated</th>\n",
       "      <th></th>\n",
       "      <th></th>\n",
       "    </tr>\n",
       "  </thead>\n",
       "  <tbody>\n",
       "    <tr>\n",
       "      <th>Outbreak Associated</th>\n",
       "      <td>0.929298</td>\n",
       "      <td>0.070702</td>\n",
       "    </tr>\n",
       "    <tr>\n",
       "      <th>Sporadic</th>\n",
       "      <td>0.991781</td>\n",
       "      <td>0.008219</td>\n",
       "    </tr>\n",
       "  </tbody>\n",
       "</table>\n",
       "</div>"
      ],
      "text/plain": [
       "Outcome              RESOLVED    ZFATAL\n",
       "Outbreak Associated                    \n",
       "Outbreak Associated  0.929298  0.070702\n",
       "Sporadic             0.991781  0.008219"
      ]
     },
     "metadata": {},
     "output_type": "display_data"
    },
    {
     "data": {
      "image/png": "[encoded data removed]",
      "text/plain": [
       "<Figure size 432x288 with 1 Axes>"
      ]
     },
     "metadata": {},
     "output_type": "display_data"
    }
   ],
   "source": [
    "plot_fatal_ratio(combined_clean_df,'Outbreak Associated')"
   ]
  },
  {
   "cell_type": "markdown",
   "id": "992c5dd6",
   "metadata": {},
   "source": [
    "Outbreak associated cases have a higher number of fatal cases. These are cases that are associated with outbreaks of COVID-19 in Toronto healthcare institutions and healthcare settings (e.g. long-term care homes, retirement homes, hospitals, etc.) and other Toronto congregate settings (such as homeless shelters)."
   ]
  },
  {
   "cell_type": "code",
   "execution_count": 34,
   "id": "bad1b065",
   "metadata": {},
   "outputs": [
    {
     "data": {
      "text/plain": [
       "CONFIRMED    262163\n",
       "PROBABLE       8799\n",
       "Name: Classification, dtype: int64"
      ]
     },
     "metadata": {},
     "output_type": "display_data"
    },
    {
     "data": {
      "text/html": [
       "<div>\n",
       "<style scoped>\n",
       "    .dataframe tbody tr th:only-of-type {\n",
       "        vertical-align: middle;\n",
       "    }\n",
       "\n",
       "    .dataframe tbody tr th {\n",
       "        vertical-align: top;\n",
       "    }\n",
       "\n",
       "    .dataframe thead th {\n",
       "        text-align: right;\n",
       "    }\n",
       "</style>\n",
       "<table border=\"1\" class=\"dataframe\">\n",
       "  <thead>\n",
       "    <tr style=\"text-align: right;\">\n",
       "      <th>Outcome</th>\n",
       "      <th>RESOLVED</th>\n",
       "      <th>ZFATAL</th>\n",
       "    </tr>\n",
       "    <tr>\n",
       "      <th>Classification</th>\n",
       "      <th></th>\n",
       "      <th></th>\n",
       "    </tr>\n",
       "  </thead>\n",
       "  <tbody>\n",
       "    <tr>\n",
       "      <th>CONFIRMED</th>\n",
       "      <td>258191</td>\n",
       "      <td>3972</td>\n",
       "    </tr>\n",
       "    <tr>\n",
       "      <th>PROBABLE</th>\n",
       "      <td>8750</td>\n",
       "      <td>49</td>\n",
       "    </tr>\n",
       "  </tbody>\n",
       "</table>\n",
       "</div>"
      ],
      "text/plain": [
       "Outcome         RESOLVED  ZFATAL\n",
       "Classification                  \n",
       "CONFIRMED         258191    3972\n",
       "PROBABLE            8750      49"
      ]
     },
     "metadata": {},
     "output_type": "display_data"
    },
    {
     "data": {
      "text/html": [
       "<div>\n",
       "<style scoped>\n",
       "    .dataframe tbody tr th:only-of-type {\n",
       "        vertical-align: middle;\n",
       "    }\n",
       "\n",
       "    .dataframe tbody tr th {\n",
       "        vertical-align: top;\n",
       "    }\n",
       "\n",
       "    .dataframe thead th {\n",
       "        text-align: right;\n",
       "    }\n",
       "</style>\n",
       "<table border=\"1\" class=\"dataframe\">\n",
       "  <thead>\n",
       "    <tr style=\"text-align: right;\">\n",
       "      <th>Outcome</th>\n",
       "      <th>RESOLVED</th>\n",
       "      <th>ZFATAL</th>\n",
       "    </tr>\n",
       "    <tr>\n",
       "      <th>Classification</th>\n",
       "      <th></th>\n",
       "      <th></th>\n",
       "    </tr>\n",
       "  </thead>\n",
       "  <tbody>\n",
       "    <tr>\n",
       "      <th>CONFIRMED</th>\n",
       "      <td>0.984849</td>\n",
       "      <td>0.015151</td>\n",
       "    </tr>\n",
       "    <tr>\n",
       "      <th>PROBABLE</th>\n",
       "      <td>0.994431</td>\n",
       "      <td>0.005569</td>\n",
       "    </tr>\n",
       "  </tbody>\n",
       "</table>\n",
       "</div>"
      ],
      "text/plain": [
       "Outcome         RESOLVED    ZFATAL\n",
       "Classification                    \n",
       "CONFIRMED       0.984849  0.015151\n",
       "PROBABLE        0.994431  0.005569"
      ]
     },
     "metadata": {},
     "output_type": "display_data"
    },
    {
     "data": {
      "image/png": "[encoded data removed]",
      "text/plain": [
       "<Figure size 432x288 with 1 Axes>"
      ]
     },
     "metadata": {},
     "output_type": "display_data"
    }
   ],
   "source": [
    "#classification column\n",
    "plot_fatal_ratio(combined_clean_df, 'Classification')"
   ]
  },
  {
   "cell_type": "markdown",
   "id": "e18fdfde",
   "metadata": {},
   "source": [
    "We see a similar proportion of fatal cases among the two `classification` categories. Confirmed: a case that is laboratory confirmed, whereas a Probably case is where the person meets clinical criteria and epidemiologic linkage but with no confirmatory laboratory testing. This feature doesn't really carry much valuable information for us.\n",
    "\n",
    "Click the link below that refers to the Ontario Ministry of Health website for Ontario's current provincial case definitions.\n",
    "https://www.health.gov.on.ca/en/pro/programs/publichealth/coronavirus/docs/2019_case_definition.pdf"
   ]
  },
  {
   "cell_type": "markdown",
   "id": "50d012ab",
   "metadata": {},
   "source": [
    "Next, I will look at the three variables that describe the history of hospitalization for Covid-19 (`Ever Hospitalizaed`, `Ever in ICU`, `Ever Intubated`). These three variables may be intermediate outcomes between infection and death, or they serve as proxies for a patient's underlying health condition. Very likely, we will see a high number of deceased cases among those who have been hospitalized. "
   ]
  },
  {
   "cell_type": "code",
   "execution_count": 35,
   "id": "723a2952",
   "metadata": {
    "scrolled": false
   },
   "outputs": [
    {
     "data": {
      "text/plain": [
       "No     257784\n",
       "Yes     13178\n",
       "Name: Ever Hospitalized, dtype: int64"
      ]
     },
     "metadata": {},
     "output_type": "display_data"
    },
    {
     "data": {
      "text/html": [
       "<div>\n",
       "<style scoped>\n",
       "    .dataframe tbody tr th:only-of-type {\n",
       "        vertical-align: middle;\n",
       "    }\n",
       "\n",
       "    .dataframe tbody tr th {\n",
       "        vertical-align: top;\n",
       "    }\n",
       "\n",
       "    .dataframe thead th {\n",
       "        text-align: right;\n",
       "    }\n",
       "</style>\n",
       "<table border=\"1\" class=\"dataframe\">\n",
       "  <thead>\n",
       "    <tr style=\"text-align: right;\">\n",
       "      <th>Outcome</th>\n",
       "      <th>RESOLVED</th>\n",
       "      <th>ZFATAL</th>\n",
       "    </tr>\n",
       "    <tr>\n",
       "      <th>Ever Hospitalized</th>\n",
       "      <th></th>\n",
       "      <th></th>\n",
       "    </tr>\n",
       "  </thead>\n",
       "  <tbody>\n",
       "    <tr>\n",
       "      <th>No</th>\n",
       "      <td>256438</td>\n",
       "      <td>1346</td>\n",
       "    </tr>\n",
       "    <tr>\n",
       "      <th>Yes</th>\n",
       "      <td>10503</td>\n",
       "      <td>2675</td>\n",
       "    </tr>\n",
       "  </tbody>\n",
       "</table>\n",
       "</div>"
      ],
      "text/plain": [
       "Outcome            RESOLVED  ZFATAL\n",
       "Ever Hospitalized                  \n",
       "No                   256438    1346\n",
       "Yes                   10503    2675"
      ]
     },
     "metadata": {},
     "output_type": "display_data"
    },
    {
     "data": {
      "text/html": [
       "<div>\n",
       "<style scoped>\n",
       "    .dataframe tbody tr th:only-of-type {\n",
       "        vertical-align: middle;\n",
       "    }\n",
       "\n",
       "    .dataframe tbody tr th {\n",
       "        vertical-align: top;\n",
       "    }\n",
       "\n",
       "    .dataframe thead th {\n",
       "        text-align: right;\n",
       "    }\n",
       "</style>\n",
       "<table border=\"1\" class=\"dataframe\">\n",
       "  <thead>\n",
       "    <tr style=\"text-align: right;\">\n",
       "      <th>Outcome</th>\n",
       "      <th>RESOLVED</th>\n",
       "      <th>ZFATAL</th>\n",
       "    </tr>\n",
       "    <tr>\n",
       "      <th>Ever Hospitalized</th>\n",
       "      <th></th>\n",
       "      <th></th>\n",
       "    </tr>\n",
       "  </thead>\n",
       "  <tbody>\n",
       "    <tr>\n",
       "      <th>No</th>\n",
       "      <td>0.994779</td>\n",
       "      <td>0.005221</td>\n",
       "    </tr>\n",
       "    <tr>\n",
       "      <th>Yes</th>\n",
       "      <td>0.797010</td>\n",
       "      <td>0.202990</td>\n",
       "    </tr>\n",
       "  </tbody>\n",
       "</table>\n",
       "</div>"
      ],
      "text/plain": [
       "Outcome            RESOLVED    ZFATAL\n",
       "Ever Hospitalized                    \n",
       "No                 0.994779  0.005221\n",
       "Yes                0.797010  0.202990"
      ]
     },
     "metadata": {},
     "output_type": "display_data"
    },
    {
     "data": {
      "image/png": "[encoded data removed]",
      "text/plain": [
       "<Figure size 432x288 with 1 Axes>"
      ]
     },
     "metadata": {},
     "output_type": "display_data"
    }
   ],
   "source": [
    "#ever hospitalized variable\n",
    "plot_fatal_ratio(combined_clean_df, 'Ever Hospitalized')"
   ]
  },
  {
   "cell_type": "markdown",
   "id": "59de5310",
   "metadata": {},
   "source": [
    "There is a higher number of fatal cases among those who were hospitalized related to their COVID-19 infection."
   ]
  },
  {
   "cell_type": "code",
   "execution_count": 36,
   "id": "5e14e771",
   "metadata": {
    "scrolled": false
   },
   "outputs": [
    {
     "data": {
      "text/plain": [
       "No     268437\n",
       "Yes      2525\n",
       "Name: Ever in ICU, dtype: int64"
      ]
     },
     "metadata": {},
     "output_type": "display_data"
    },
    {
     "data": {
      "text/html": [
       "<div>\n",
       "<style scoped>\n",
       "    .dataframe tbody tr th:only-of-type {\n",
       "        vertical-align: middle;\n",
       "    }\n",
       "\n",
       "    .dataframe tbody tr th {\n",
       "        vertical-align: top;\n",
       "    }\n",
       "\n",
       "    .dataframe thead th {\n",
       "        text-align: right;\n",
       "    }\n",
       "</style>\n",
       "<table border=\"1\" class=\"dataframe\">\n",
       "  <thead>\n",
       "    <tr style=\"text-align: right;\">\n",
       "      <th>Outcome</th>\n",
       "      <th>RESOLVED</th>\n",
       "      <th>ZFATAL</th>\n",
       "    </tr>\n",
       "    <tr>\n",
       "      <th>Ever in ICU</th>\n",
       "      <th></th>\n",
       "      <th></th>\n",
       "    </tr>\n",
       "  </thead>\n",
       "  <tbody>\n",
       "    <tr>\n",
       "      <th>No</th>\n",
       "      <td>265417</td>\n",
       "      <td>3020</td>\n",
       "    </tr>\n",
       "    <tr>\n",
       "      <th>Yes</th>\n",
       "      <td>1524</td>\n",
       "      <td>1001</td>\n",
       "    </tr>\n",
       "  </tbody>\n",
       "</table>\n",
       "</div>"
      ],
      "text/plain": [
       "Outcome      RESOLVED  ZFATAL\n",
       "Ever in ICU                  \n",
       "No             265417    3020\n",
       "Yes              1524    1001"
      ]
     },
     "metadata": {},
     "output_type": "display_data"
    },
    {
     "data": {
      "text/html": [
       "<div>\n",
       "<style scoped>\n",
       "    .dataframe tbody tr th:only-of-type {\n",
       "        vertical-align: middle;\n",
       "    }\n",
       "\n",
       "    .dataframe tbody tr th {\n",
       "        vertical-align: top;\n",
       "    }\n",
       "\n",
       "    .dataframe thead th {\n",
       "        text-align: right;\n",
       "    }\n",
       "</style>\n",
       "<table border=\"1\" class=\"dataframe\">\n",
       "  <thead>\n",
       "    <tr style=\"text-align: right;\">\n",
       "      <th>Outcome</th>\n",
       "      <th>RESOLVED</th>\n",
       "      <th>ZFATAL</th>\n",
       "    </tr>\n",
       "    <tr>\n",
       "      <th>Ever in ICU</th>\n",
       "      <th></th>\n",
       "      <th></th>\n",
       "    </tr>\n",
       "  </thead>\n",
       "  <tbody>\n",
       "    <tr>\n",
       "      <th>No</th>\n",
       "      <td>0.988750</td>\n",
       "      <td>0.011250</td>\n",
       "    </tr>\n",
       "    <tr>\n",
       "      <th>Yes</th>\n",
       "      <td>0.603564</td>\n",
       "      <td>0.396436</td>\n",
       "    </tr>\n",
       "  </tbody>\n",
       "</table>\n",
       "</div>"
      ],
      "text/plain": [
       "Outcome      RESOLVED    ZFATAL\n",
       "Ever in ICU                    \n",
       "No           0.988750  0.011250\n",
       "Yes          0.603564  0.396436"
      ]
     },
     "metadata": {},
     "output_type": "display_data"
    },
    {
     "data": {
      "image/png": "[encoded data removed]",
      "text/plain": [
       "<Figure size 432x288 with 1 Axes>"
      ]
     },
     "metadata": {},
     "output_type": "display_data"
    }
   ],
   "source": [
    "plot_fatal_ratio(combined_clean_df,'Ever in ICU')"
   ]
  },
  {
   "cell_type": "code",
   "execution_count": 37,
   "id": "6d082e9e",
   "metadata": {},
   "outputs": [
    {
     "data": {
      "text/plain": [
       "No     269477\n",
       "Yes      1485\n",
       "Name: Ever Intubated, dtype: int64"
      ]
     },
     "metadata": {},
     "output_type": "display_data"
    },
    {
     "data": {
      "text/html": [
       "<div>\n",
       "<style scoped>\n",
       "    .dataframe tbody tr th:only-of-type {\n",
       "        vertical-align: middle;\n",
       "    }\n",
       "\n",
       "    .dataframe tbody tr th {\n",
       "        vertical-align: top;\n",
       "    }\n",
       "\n",
       "    .dataframe thead th {\n",
       "        text-align: right;\n",
       "    }\n",
       "</style>\n",
       "<table border=\"1\" class=\"dataframe\">\n",
       "  <thead>\n",
       "    <tr style=\"text-align: right;\">\n",
       "      <th>Outcome</th>\n",
       "      <th>RESOLVED</th>\n",
       "      <th>ZFATAL</th>\n",
       "    </tr>\n",
       "    <tr>\n",
       "      <th>Ever Intubated</th>\n",
       "      <th></th>\n",
       "      <th></th>\n",
       "    </tr>\n",
       "  </thead>\n",
       "  <tbody>\n",
       "    <tr>\n",
       "      <th>No</th>\n",
       "      <td>266194</td>\n",
       "      <td>3283</td>\n",
       "    </tr>\n",
       "    <tr>\n",
       "      <th>Yes</th>\n",
       "      <td>747</td>\n",
       "      <td>738</td>\n",
       "    </tr>\n",
       "  </tbody>\n",
       "</table>\n",
       "</div>"
      ],
      "text/plain": [
       "Outcome         RESOLVED  ZFATAL\n",
       "Ever Intubated                  \n",
       "No                266194    3283\n",
       "Yes                  747     738"
      ]
     },
     "metadata": {},
     "output_type": "display_data"
    },
    {
     "data": {
      "text/html": [
       "<div>\n",
       "<style scoped>\n",
       "    .dataframe tbody tr th:only-of-type {\n",
       "        vertical-align: middle;\n",
       "    }\n",
       "\n",
       "    .dataframe tbody tr th {\n",
       "        vertical-align: top;\n",
       "    }\n",
       "\n",
       "    .dataframe thead th {\n",
       "        text-align: right;\n",
       "    }\n",
       "</style>\n",
       "<table border=\"1\" class=\"dataframe\">\n",
       "  <thead>\n",
       "    <tr style=\"text-align: right;\">\n",
       "      <th>Outcome</th>\n",
       "      <th>RESOLVED</th>\n",
       "      <th>ZFATAL</th>\n",
       "    </tr>\n",
       "    <tr>\n",
       "      <th>Ever Intubated</th>\n",
       "      <th></th>\n",
       "      <th></th>\n",
       "    </tr>\n",
       "  </thead>\n",
       "  <tbody>\n",
       "    <tr>\n",
       "      <th>No</th>\n",
       "      <td>0.987817</td>\n",
       "      <td>0.012183</td>\n",
       "    </tr>\n",
       "    <tr>\n",
       "      <th>Yes</th>\n",
       "      <td>0.503030</td>\n",
       "      <td>0.496970</td>\n",
       "    </tr>\n",
       "  </tbody>\n",
       "</table>\n",
       "</div>"
      ],
      "text/plain": [
       "Outcome         RESOLVED    ZFATAL\n",
       "Ever Intubated                    \n",
       "No              0.987817  0.012183\n",
       "Yes             0.503030  0.496970"
      ]
     },
     "metadata": {},
     "output_type": "display_data"
    },
    {
     "data": {
      "image/png": "[encoded data removed]",
      "text/plain": [
       "<Figure size 432x288 with 1 Axes>"
      ]
     },
     "metadata": {},
     "output_type": "display_data"
    }
   ],
   "source": [
    "plot_fatal_ratio(combined_clean_df, 'Ever Intubated')"
   ]
  },
  {
   "cell_type": "code",
   "execution_count": 38,
   "id": "e0a74a06",
   "metadata": {},
   "outputs": [
    {
     "data": {
      "text/plain": [
       "FEMALE                        138728\n",
       "MALE                          130131\n",
       "UNKNOWN                         1916\n",
       "NON-BINARY                       122\n",
       "TRANSGENDER                       21\n",
       "TRANS MAN                         19\n",
       "OTHER                             13\n",
       "TRANS WOMAN                       10\n",
       "NOT LISTED, PLEASE SPECIFY         2\n",
       "Name: Client Gender, dtype: int64"
      ]
     },
     "metadata": {},
     "output_type": "display_data"
    },
    {
     "data": {
      "text/html": [
       "<div>\n",
       "<style scoped>\n",
       "    .dataframe tbody tr th:only-of-type {\n",
       "        vertical-align: middle;\n",
       "    }\n",
       "\n",
       "    .dataframe tbody tr th {\n",
       "        vertical-align: top;\n",
       "    }\n",
       "\n",
       "    .dataframe thead th {\n",
       "        text-align: right;\n",
       "    }\n",
       "</style>\n",
       "<table border=\"1\" class=\"dataframe\">\n",
       "  <thead>\n",
       "    <tr style=\"text-align: right;\">\n",
       "      <th>Outcome</th>\n",
       "      <th>RESOLVED</th>\n",
       "      <th>ZFATAL</th>\n",
       "    </tr>\n",
       "    <tr>\n",
       "      <th>Client Gender</th>\n",
       "      <th></th>\n",
       "      <th></th>\n",
       "    </tr>\n",
       "  </thead>\n",
       "  <tbody>\n",
       "    <tr>\n",
       "      <th>FEMALE</th>\n",
       "      <td>136871.0</td>\n",
       "      <td>1857.0</td>\n",
       "    </tr>\n",
       "    <tr>\n",
       "      <th>MALE</th>\n",
       "      <td>128018.0</td>\n",
       "      <td>2113.0</td>\n",
       "    </tr>\n",
       "    <tr>\n",
       "      <th>NON-BINARY</th>\n",
       "      <td>122.0</td>\n",
       "      <td>NaN</td>\n",
       "    </tr>\n",
       "    <tr>\n",
       "      <th>NOT LISTED, PLEASE SPECIFY</th>\n",
       "      <td>2.0</td>\n",
       "      <td>NaN</td>\n",
       "    </tr>\n",
       "    <tr>\n",
       "      <th>OTHER</th>\n",
       "      <td>13.0</td>\n",
       "      <td>NaN</td>\n",
       "    </tr>\n",
       "    <tr>\n",
       "      <th>TRANS MAN</th>\n",
       "      <td>19.0</td>\n",
       "      <td>NaN</td>\n",
       "    </tr>\n",
       "    <tr>\n",
       "      <th>TRANS WOMAN</th>\n",
       "      <td>10.0</td>\n",
       "      <td>NaN</td>\n",
       "    </tr>\n",
       "    <tr>\n",
       "      <th>TRANSGENDER</th>\n",
       "      <td>21.0</td>\n",
       "      <td>NaN</td>\n",
       "    </tr>\n",
       "    <tr>\n",
       "      <th>UNKNOWN</th>\n",
       "      <td>1865.0</td>\n",
       "      <td>51.0</td>\n",
       "    </tr>\n",
       "  </tbody>\n",
       "</table>\n",
       "</div>"
      ],
      "text/plain": [
       "Outcome                     RESOLVED  ZFATAL\n",
       "Client Gender                               \n",
       "FEMALE                      136871.0  1857.0\n",
       "MALE                        128018.0  2113.0\n",
       "NON-BINARY                     122.0     NaN\n",
       "NOT LISTED, PLEASE SPECIFY       2.0     NaN\n",
       "OTHER                           13.0     NaN\n",
       "TRANS MAN                       19.0     NaN\n",
       "TRANS WOMAN                     10.0     NaN\n",
       "TRANSGENDER                     21.0     NaN\n",
       "UNKNOWN                       1865.0    51.0"
      ]
     },
     "metadata": {},
     "output_type": "display_data"
    },
    {
     "data": {
      "text/html": [
       "<div>\n",
       "<style scoped>\n",
       "    .dataframe tbody tr th:only-of-type {\n",
       "        vertical-align: middle;\n",
       "    }\n",
       "\n",
       "    .dataframe tbody tr th {\n",
       "        vertical-align: top;\n",
       "    }\n",
       "\n",
       "    .dataframe thead th {\n",
       "        text-align: right;\n",
       "    }\n",
       "</style>\n",
       "<table border=\"1\" class=\"dataframe\">\n",
       "  <thead>\n",
       "    <tr style=\"text-align: right;\">\n",
       "      <th>Outcome</th>\n",
       "      <th>RESOLVED</th>\n",
       "      <th>ZFATAL</th>\n",
       "    </tr>\n",
       "    <tr>\n",
       "      <th>Client Gender</th>\n",
       "      <th></th>\n",
       "      <th></th>\n",
       "    </tr>\n",
       "  </thead>\n",
       "  <tbody>\n",
       "    <tr>\n",
       "      <th>FEMALE</th>\n",
       "      <td>0.986614</td>\n",
       "      <td>0.013386</td>\n",
       "    </tr>\n",
       "    <tr>\n",
       "      <th>MALE</th>\n",
       "      <td>0.983763</td>\n",
       "      <td>0.016237</td>\n",
       "    </tr>\n",
       "    <tr>\n",
       "      <th>NON-BINARY</th>\n",
       "      <td>1.000000</td>\n",
       "      <td>NaN</td>\n",
       "    </tr>\n",
       "    <tr>\n",
       "      <th>NOT LISTED, PLEASE SPECIFY</th>\n",
       "      <td>1.000000</td>\n",
       "      <td>NaN</td>\n",
       "    </tr>\n",
       "    <tr>\n",
       "      <th>OTHER</th>\n",
       "      <td>1.000000</td>\n",
       "      <td>NaN</td>\n",
       "    </tr>\n",
       "    <tr>\n",
       "      <th>TRANS MAN</th>\n",
       "      <td>1.000000</td>\n",
       "      <td>NaN</td>\n",
       "    </tr>\n",
       "    <tr>\n",
       "      <th>TRANS WOMAN</th>\n",
       "      <td>1.000000</td>\n",
       "      <td>NaN</td>\n",
       "    </tr>\n",
       "    <tr>\n",
       "      <th>TRANSGENDER</th>\n",
       "      <td>1.000000</td>\n",
       "      <td>NaN</td>\n",
       "    </tr>\n",
       "    <tr>\n",
       "      <th>UNKNOWN</th>\n",
       "      <td>0.973382</td>\n",
       "      <td>0.026618</td>\n",
       "    </tr>\n",
       "  </tbody>\n",
       "</table>\n",
       "</div>"
      ],
      "text/plain": [
       "Outcome                     RESOLVED    ZFATAL\n",
       "Client Gender                                 \n",
       "FEMALE                      0.986614  0.013386\n",
       "MALE                        0.983763  0.016237\n",
       "NON-BINARY                  1.000000       NaN\n",
       "NOT LISTED, PLEASE SPECIFY  1.000000       NaN\n",
       "OTHER                       1.000000       NaN\n",
       "TRANS MAN                   1.000000       NaN\n",
       "TRANS WOMAN                 1.000000       NaN\n",
       "TRANSGENDER                 1.000000       NaN\n",
       "UNKNOWN                     0.973382  0.026618"
      ]
     },
     "metadata": {},
     "output_type": "display_data"
    },
    {
     "data": {
      "image/png": "[encoded data removed]",
      "text/plain": [
       "<Figure size 432x288 with 1 Axes>"
      ]
     },
     "metadata": {},
     "output_type": "display_data"
    }
   ],
   "source": [
    "# Gender\n",
    "plot_fatal_ratio(combined_clean_df, 'Client Gender')"
   ]
  },
  {
   "cell_type": "markdown",
   "id": "c0f6330e",
   "metadata": {},
   "source": [
    "We do see 9 different unique values for `Client Gender`, I can group all the other categories of gender like `transgender`, and `unknown` as `Other`. The `other` category of gender adds up to ~ 2000 rows and we can see that the `FATAL` cases are all under the `unknown` category."
   ]
  },
  {
   "cell_type": "code",
   "execution_count": 39,
   "id": "e2567ef4",
   "metadata": {},
   "outputs": [],
   "source": [
    "# selecting all the rows with all the other category and grouping them together.\n",
    "combined_clean_df.loc[(combined_clean_df['Client Gender'] != 'MALE') & (combined_clean_df['Client Gender'] != 'FEMALE'), 'Client Gender'] = 'Other'"
   ]
  },
  {
   "cell_type": "code",
   "execution_count": 40,
   "id": "144318f0",
   "metadata": {},
   "outputs": [
    {
     "data": {
      "text/plain": [
       "FEMALE    138728\n",
       "MALE      130131\n",
       "Other       2103\n",
       "Name: Client Gender, dtype: int64"
      ]
     },
     "execution_count": 40,
     "metadata": {},
     "output_type": "execute_result"
    }
   ],
   "source": [
    "#sanity check\n",
    "combined_clean_df['Client Gender'].value_counts()"
   ]
  },
  {
   "cell_type": "code",
   "execution_count": 41,
   "id": "d225f877",
   "metadata": {},
   "outputs": [
    {
     "data": {
      "text/plain": [
       "20 to 29 Years    57571\n",
       "30 to 39 Years    50774\n",
       "19 and younger    41599\n",
       "40 to 49 Years    39179\n",
       "50 to 59 Years    36055\n",
       "60 to 69 Years    22164\n",
       "70 to 79 Years    10966\n",
       "80 to 89 Years     8168\n",
       "90 and older       4486\n",
       "Name: Age Group, dtype: int64"
      ]
     },
     "metadata": {},
     "output_type": "display_data"
    },
    {
     "data": {
      "text/html": [
       "<div>\n",
       "<style scoped>\n",
       "    .dataframe tbody tr th:only-of-type {\n",
       "        vertical-align: middle;\n",
       "    }\n",
       "\n",
       "    .dataframe tbody tr th {\n",
       "        vertical-align: top;\n",
       "    }\n",
       "\n",
       "    .dataframe thead th {\n",
       "        text-align: right;\n",
       "    }\n",
       "</style>\n",
       "<table border=\"1\" class=\"dataframe\">\n",
       "  <thead>\n",
       "    <tr style=\"text-align: right;\">\n",
       "      <th>Outcome</th>\n",
       "      <th>RESOLVED</th>\n",
       "      <th>ZFATAL</th>\n",
       "    </tr>\n",
       "    <tr>\n",
       "      <th>Age Group</th>\n",
       "      <th></th>\n",
       "      <th></th>\n",
       "    </tr>\n",
       "  </thead>\n",
       "  <tbody>\n",
       "    <tr>\n",
       "      <th>19 and younger</th>\n",
       "      <td>41596</td>\n",
       "      <td>3</td>\n",
       "    </tr>\n",
       "    <tr>\n",
       "      <th>20 to 29 Years</th>\n",
       "      <td>57560</td>\n",
       "      <td>11</td>\n",
       "    </tr>\n",
       "    <tr>\n",
       "      <th>30 to 39 Years</th>\n",
       "      <td>50741</td>\n",
       "      <td>33</td>\n",
       "    </tr>\n",
       "    <tr>\n",
       "      <th>40 to 49 Years</th>\n",
       "      <td>39102</td>\n",
       "      <td>77</td>\n",
       "    </tr>\n",
       "    <tr>\n",
       "      <th>50 to 59 Years</th>\n",
       "      <td>35849</td>\n",
       "      <td>206</td>\n",
       "    </tr>\n",
       "    <tr>\n",
       "      <th>60 to 69 Years</th>\n",
       "      <td>21669</td>\n",
       "      <td>495</td>\n",
       "    </tr>\n",
       "    <tr>\n",
       "      <th>70 to 79 Years</th>\n",
       "      <td>10175</td>\n",
       "      <td>791</td>\n",
       "    </tr>\n",
       "    <tr>\n",
       "      <th>80 to 89 Years</th>\n",
       "      <td>6821</td>\n",
       "      <td>1347</td>\n",
       "    </tr>\n",
       "    <tr>\n",
       "      <th>90 and older</th>\n",
       "      <td>3428</td>\n",
       "      <td>1058</td>\n",
       "    </tr>\n",
       "  </tbody>\n",
       "</table>\n",
       "</div>"
      ],
      "text/plain": [
       "Outcome         RESOLVED  ZFATAL\n",
       "Age Group                       \n",
       "19 and younger     41596       3\n",
       "20 to 29 Years     57560      11\n",
       "30 to 39 Years     50741      33\n",
       "40 to 49 Years     39102      77\n",
       "50 to 59 Years     35849     206\n",
       "60 to 69 Years     21669     495\n",
       "70 to 79 Years     10175     791\n",
       "80 to 89 Years      6821    1347\n",
       "90 and older        3428    1058"
      ]
     },
     "metadata": {},
     "output_type": "display_data"
    },
    {
     "data": {
      "text/html": [
       "<div>\n",
       "<style scoped>\n",
       "    .dataframe tbody tr th:only-of-type {\n",
       "        vertical-align: middle;\n",
       "    }\n",
       "\n",
       "    .dataframe tbody tr th {\n",
       "        vertical-align: top;\n",
       "    }\n",
       "\n",
       "    .dataframe thead th {\n",
       "        text-align: right;\n",
       "    }\n",
       "</style>\n",
       "<table border=\"1\" class=\"dataframe\">\n",
       "  <thead>\n",
       "    <tr style=\"text-align: right;\">\n",
       "      <th>Outcome</th>\n",
       "      <th>RESOLVED</th>\n",
       "      <th>ZFATAL</th>\n",
       "    </tr>\n",
       "    <tr>\n",
       "      <th>Age Group</th>\n",
       "      <th></th>\n",
       "      <th></th>\n",
       "    </tr>\n",
       "  </thead>\n",
       "  <tbody>\n",
       "    <tr>\n",
       "      <th>19 and younger</th>\n",
       "      <td>0.999928</td>\n",
       "      <td>0.000072</td>\n",
       "    </tr>\n",
       "    <tr>\n",
       "      <th>20 to 29 Years</th>\n",
       "      <td>0.999809</td>\n",
       "      <td>0.000191</td>\n",
       "    </tr>\n",
       "    <tr>\n",
       "      <th>30 to 39 Years</th>\n",
       "      <td>0.999350</td>\n",
       "      <td>0.000650</td>\n",
       "    </tr>\n",
       "    <tr>\n",
       "      <th>40 to 49 Years</th>\n",
       "      <td>0.998035</td>\n",
       "      <td>0.001965</td>\n",
       "    </tr>\n",
       "    <tr>\n",
       "      <th>50 to 59 Years</th>\n",
       "      <td>0.994287</td>\n",
       "      <td>0.005713</td>\n",
       "    </tr>\n",
       "    <tr>\n",
       "      <th>60 to 69 Years</th>\n",
       "      <td>0.977666</td>\n",
       "      <td>0.022334</td>\n",
       "    </tr>\n",
       "    <tr>\n",
       "      <th>70 to 79 Years</th>\n",
       "      <td>0.927868</td>\n",
       "      <td>0.072132</td>\n",
       "    </tr>\n",
       "    <tr>\n",
       "      <th>80 to 89 Years</th>\n",
       "      <td>0.835088</td>\n",
       "      <td>0.164912</td>\n",
       "    </tr>\n",
       "    <tr>\n",
       "      <th>90 and older</th>\n",
       "      <td>0.764155</td>\n",
       "      <td>0.235845</td>\n",
       "    </tr>\n",
       "  </tbody>\n",
       "</table>\n",
       "</div>"
      ],
      "text/plain": [
       "Outcome         RESOLVED    ZFATAL\n",
       "Age Group                         \n",
       "19 and younger  0.999928  0.000072\n",
       "20 to 29 Years  0.999809  0.000191\n",
       "30 to 39 Years  0.999350  0.000650\n",
       "40 to 49 Years  0.998035  0.001965\n",
       "50 to 59 Years  0.994287  0.005713\n",
       "60 to 69 Years  0.977666  0.022334\n",
       "70 to 79 Years  0.927868  0.072132\n",
       "80 to 89 Years  0.835088  0.164912\n",
       "90 and older    0.764155  0.235845"
      ]
     },
     "metadata": {},
     "output_type": "display_data"
    },
    {
     "data": {
      "image/png": "[encoded data removed]",
      "text/plain": [
       "<Figure size 432x288 with 1 Axes>"
      ]
     },
     "metadata": {},
     "output_type": "display_data"
    }
   ],
   "source": [
    "#Age Group\n",
    "plot_fatal_ratio(combined_clean_df, 'Age Group')"
   ]
  },
  {
   "cell_type": "markdown",
   "id": "2864fcf7",
   "metadata": {},
   "source": [
    "There are more fatal cases among older age group. The risk of severe illness or mortality risk increase as people get older."
   ]
  },
  {
   "cell_type": "code",
   "execution_count": 42,
   "id": "3e63ad7f",
   "metadata": {},
   "outputs": [
    {
     "data": {
      "text/plain": [
       "No Information                        115456\n",
       "Community                              62896\n",
       "Household Contact                      36316\n",
       "Outbreaks, Healthcare Institutions     15401\n",
       "Close Contact                          15219\n",
       "Outbreaks, Other Settings              10218\n",
       "Pending                                 8042\n",
       "Outbreaks, Congregate Settings          3716\n",
       "Travel                                  3698\n",
       "Name: Source of Infection, dtype: int64"
      ]
     },
     "metadata": {},
     "output_type": "display_data"
    },
    {
     "data": {
      "text/html": [
       "<div>\n",
       "<style scoped>\n",
       "    .dataframe tbody tr th:only-of-type {\n",
       "        vertical-align: middle;\n",
       "    }\n",
       "\n",
       "    .dataframe tbody tr th {\n",
       "        vertical-align: top;\n",
       "    }\n",
       "\n",
       "    .dataframe thead th {\n",
       "        text-align: right;\n",
       "    }\n",
       "</style>\n",
       "<table border=\"1\" class=\"dataframe\">\n",
       "  <thead>\n",
       "    <tr style=\"text-align: right;\">\n",
       "      <th>Outcome</th>\n",
       "      <th>RESOLVED</th>\n",
       "      <th>ZFATAL</th>\n",
       "    </tr>\n",
       "    <tr>\n",
       "      <th>Source of Infection</th>\n",
       "      <th></th>\n",
       "      <th></th>\n",
       "    </tr>\n",
       "  </thead>\n",
       "  <tbody>\n",
       "    <tr>\n",
       "      <th>Close Contact</th>\n",
       "      <td>15084</td>\n",
       "      <td>135</td>\n",
       "    </tr>\n",
       "    <tr>\n",
       "      <th>Community</th>\n",
       "      <td>61940</td>\n",
       "      <td>956</td>\n",
       "    </tr>\n",
       "    <tr>\n",
       "      <th>Household Contact</th>\n",
       "      <td>36099</td>\n",
       "      <td>217</td>\n",
       "    </tr>\n",
       "    <tr>\n",
       "      <th>No Information</th>\n",
       "      <td>114833</td>\n",
       "      <td>623</td>\n",
       "    </tr>\n",
       "    <tr>\n",
       "      <th>Outbreaks, Congregate Settings</th>\n",
       "      <td>3686</td>\n",
       "      <td>30</td>\n",
       "    </tr>\n",
       "    <tr>\n",
       "      <th>Outbreaks, Healthcare Institutions</th>\n",
       "      <td>13434</td>\n",
       "      <td>1967</td>\n",
       "    </tr>\n",
       "    <tr>\n",
       "      <th>Outbreaks, Other Settings</th>\n",
       "      <td>10167</td>\n",
       "      <td>51</td>\n",
       "    </tr>\n",
       "    <tr>\n",
       "      <th>Pending</th>\n",
       "      <td>8029</td>\n",
       "      <td>13</td>\n",
       "    </tr>\n",
       "    <tr>\n",
       "      <th>Travel</th>\n",
       "      <td>3669</td>\n",
       "      <td>29</td>\n",
       "    </tr>\n",
       "  </tbody>\n",
       "</table>\n",
       "</div>"
      ],
      "text/plain": [
       "Outcome                             RESOLVED  ZFATAL\n",
       "Source of Infection                                 \n",
       "Close Contact                          15084     135\n",
       "Community                              61940     956\n",
       "Household Contact                      36099     217\n",
       "No Information                        114833     623\n",
       "Outbreaks, Congregate Settings          3686      30\n",
       "Outbreaks, Healthcare Institutions     13434    1967\n",
       "Outbreaks, Other Settings              10167      51\n",
       "Pending                                 8029      13\n",
       "Travel                                  3669      29"
      ]
     },
     "metadata": {},
     "output_type": "display_data"
    },
    {
     "data": {
      "text/html": [
       "<div>\n",
       "<style scoped>\n",
       "    .dataframe tbody tr th:only-of-type {\n",
       "        vertical-align: middle;\n",
       "    }\n",
       "\n",
       "    .dataframe tbody tr th {\n",
       "        vertical-align: top;\n",
       "    }\n",
       "\n",
       "    .dataframe thead th {\n",
       "        text-align: right;\n",
       "    }\n",
       "</style>\n",
       "<table border=\"1\" class=\"dataframe\">\n",
       "  <thead>\n",
       "    <tr style=\"text-align: right;\">\n",
       "      <th>Outcome</th>\n",
       "      <th>RESOLVED</th>\n",
       "      <th>ZFATAL</th>\n",
       "    </tr>\n",
       "    <tr>\n",
       "      <th>Source of Infection</th>\n",
       "      <th></th>\n",
       "      <th></th>\n",
       "    </tr>\n",
       "  </thead>\n",
       "  <tbody>\n",
       "    <tr>\n",
       "      <th>Close Contact</th>\n",
       "      <td>0.991130</td>\n",
       "      <td>0.008870</td>\n",
       "    </tr>\n",
       "    <tr>\n",
       "      <th>Community</th>\n",
       "      <td>0.984800</td>\n",
       "      <td>0.015200</td>\n",
       "    </tr>\n",
       "    <tr>\n",
       "      <th>Household Contact</th>\n",
       "      <td>0.994025</td>\n",
       "      <td>0.005975</td>\n",
       "    </tr>\n",
       "    <tr>\n",
       "      <th>No Information</th>\n",
       "      <td>0.994604</td>\n",
       "      <td>0.005396</td>\n",
       "    </tr>\n",
       "    <tr>\n",
       "      <th>Outbreaks, Congregate Settings</th>\n",
       "      <td>0.991927</td>\n",
       "      <td>0.008073</td>\n",
       "    </tr>\n",
       "    <tr>\n",
       "      <th>Outbreaks, Healthcare Institutions</th>\n",
       "      <td>0.872281</td>\n",
       "      <td>0.127719</td>\n",
       "    </tr>\n",
       "    <tr>\n",
       "      <th>Outbreaks, Other Settings</th>\n",
       "      <td>0.995009</td>\n",
       "      <td>0.004991</td>\n",
       "    </tr>\n",
       "    <tr>\n",
       "      <th>Pending</th>\n",
       "      <td>0.998383</td>\n",
       "      <td>0.001617</td>\n",
       "    </tr>\n",
       "    <tr>\n",
       "      <th>Travel</th>\n",
       "      <td>0.992158</td>\n",
       "      <td>0.007842</td>\n",
       "    </tr>\n",
       "  </tbody>\n",
       "</table>\n",
       "</div>"
      ],
      "text/plain": [
       "Outcome                             RESOLVED    ZFATAL\n",
       "Source of Infection                                   \n",
       "Close Contact                       0.991130  0.008870\n",
       "Community                           0.984800  0.015200\n",
       "Household Contact                   0.994025  0.005975\n",
       "No Information                      0.994604  0.005396\n",
       "Outbreaks, Congregate Settings      0.991927  0.008073\n",
       "Outbreaks, Healthcare Institutions  0.872281  0.127719\n",
       "Outbreaks, Other Settings           0.995009  0.004991\n",
       "Pending                             0.998383  0.001617\n",
       "Travel                              0.992158  0.007842"
      ]
     },
     "metadata": {},
     "output_type": "display_data"
    },
    {
     "data": {
      "image/png": "[encoded data removed]",
      "text/plain": [
       "<Figure size 432x288 with 1 Axes>"
      ]
     },
     "metadata": {},
     "output_type": "display_data"
    }
   ],
   "source": [
    "# Source of infection\n",
    "plot_fatal_ratio(combined_clean_df, 'Source of Infection')"
   ]
  },
  {
   "cell_type": "markdown",
   "id": "4d9e7ca4",
   "metadata": {},
   "source": [
    "We do see a very high proportion of fatal cases among outbreaks in Health Care Institutions, however, we also have a lot of rows of data (~40% of total)with `no information`, so this feature might not be very useful for our analysis. "
   ]
  },
  {
   "cell_type": "code",
   "execution_count": 63,
   "id": "42f7ff06",
   "metadata": {},
   "outputs": [],
   "source": [
    "#export merged dataset to csv\n",
    "combined_clean_df.to_csv('final_dataset.csv')"
   ]
  },
  {
   "cell_type": "markdown",
   "id": "bbaf0a75",
   "metadata": {},
   "source": [
    "In our next notebook, I will perform data transformation and apply different machine learning methods.\n",
    "\n",
    "**-- >Notebook 2 Modeling and Model Evaluation**"
   ]
  }
 ],
 "metadata": {
  "kernelspec": {
   "display_name": "Python 3 (ipykernel)",
   "language": "python",
   "name": "python3"
  },
  "language_info": {
   "codemirror_mode": {
    "name": "ipython",
    "version": 3
   },
   "file_extension": ".py",
   "mimetype": "text/x-python",
   "name": "python",
   "nbconvert_exporter": "python",
   "pygments_lexer": "ipython3",
   "version": "3.9.7"
  }
 },
 "nbformat": 4,
 "nbformat_minor": 5
}
